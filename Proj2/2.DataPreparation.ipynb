{
 "cells": [
  {
   "cell_type": "markdown",
   "id": "63fd452e",
   "metadata": {},
   "source": [
    "# 2. Data Preparation\n",
    "This notebook prepares the dataset for building supervised learning models to classify mushrooms as **poisonous** or **edible**."
   ]
  },
  {
   "cell_type": "code",
   "execution_count": 1,
   "id": "0250c62d",
   "metadata": {},
   "outputs": [],
   "source": [
    "# Import libraries\n",
    "import pandas as pd\n",
    "import numpy as np\n",
    "import matplotlib.pyplot as plt\n",
    "import math\n",
    "import seaborn as sns"
   ]
  },
  {
   "cell_type": "code",
   "execution_count": 133,
   "id": "91a8665c",
   "metadata": {},
   "outputs": [
    {
     "name": "stdout",
     "output_type": "stream",
     "text": [
      "Train dataset shape: (3116945, 22)\n"
     ]
    }
   ],
   "source": [
    "# Load dataset\n",
    "df = pd.read_csv('./Data/train.csv')\n",
    "print(\"Train dataset shape:\", df.shape)"
   ]
  },
  {
   "cell_type": "markdown",
   "id": "3e40b225",
   "metadata": {},
   "source": [
    "## 0. Sampling Strategy\n",
    "\n",
    "To improve efficiency and maintain reproducibility, a random sample of 100,000 rows was taken from the full dataset (~3.1M rows). Sampling preserves the original class distribution using a fixed random seed (42).\n"
   ]
  },
  {
   "cell_type": "code",
   "execution_count": 134,
   "id": "3059fdbd",
   "metadata": {},
   "outputs": [
    {
     "name": "stdout",
     "output_type": "stream",
     "text": [
      "Sampled dataset shape: (100000, 22)\n"
     ]
    },
    {
     "data": {
      "text/html": [
       "<div>\n",
       "<style scoped>\n",
       "    .dataframe tbody tr th:only-of-type {\n",
       "        vertical-align: middle;\n",
       "    }\n",
       "\n",
       "    .dataframe tbody tr th {\n",
       "        vertical-align: top;\n",
       "    }\n",
       "\n",
       "    .dataframe thead th {\n",
       "        text-align: right;\n",
       "    }\n",
       "</style>\n",
       "<table border=\"1\" class=\"dataframe\">\n",
       "  <thead>\n",
       "    <tr style=\"text-align: right;\">\n",
       "      <th></th>\n",
       "      <th>id</th>\n",
       "      <th>class</th>\n",
       "      <th>cap-diameter</th>\n",
       "      <th>cap-shape</th>\n",
       "      <th>cap-surface</th>\n",
       "      <th>cap-color</th>\n",
       "      <th>does-bruise-or-bleed</th>\n",
       "      <th>gill-attachment</th>\n",
       "      <th>gill-spacing</th>\n",
       "      <th>gill-color</th>\n",
       "      <th>...</th>\n",
       "      <th>stem-root</th>\n",
       "      <th>stem-surface</th>\n",
       "      <th>stem-color</th>\n",
       "      <th>veil-type</th>\n",
       "      <th>veil-color</th>\n",
       "      <th>has-ring</th>\n",
       "      <th>ring-type</th>\n",
       "      <th>spore-print-color</th>\n",
       "      <th>habitat</th>\n",
       "      <th>season</th>\n",
       "    </tr>\n",
       "  </thead>\n",
       "  <tbody>\n",
       "    <tr>\n",
       "      <th>0</th>\n",
       "      <td>1356763</td>\n",
       "      <td>p</td>\n",
       "      <td>7.82</td>\n",
       "      <td>s</td>\n",
       "      <td>t</td>\n",
       "      <td>r</td>\n",
       "      <td>t</td>\n",
       "      <td>d</td>\n",
       "      <td>NaN</td>\n",
       "      <td>g</td>\n",
       "      <td>...</td>\n",
       "      <td>NaN</td>\n",
       "      <td>t</td>\n",
       "      <td>g</td>\n",
       "      <td>NaN</td>\n",
       "      <td>NaN</td>\n",
       "      <td>f</td>\n",
       "      <td>f</td>\n",
       "      <td>NaN</td>\n",
       "      <td>d</td>\n",
       "      <td>a</td>\n",
       "    </tr>\n",
       "    <tr>\n",
       "      <th>1</th>\n",
       "      <td>2369311</td>\n",
       "      <td>p</td>\n",
       "      <td>3.20</td>\n",
       "      <td>o</td>\n",
       "      <td>NaN</td>\n",
       "      <td>g</td>\n",
       "      <td>f</td>\n",
       "      <td>f</td>\n",
       "      <td>f</td>\n",
       "      <td>f</td>\n",
       "      <td>...</td>\n",
       "      <td>NaN</td>\n",
       "      <td>g</td>\n",
       "      <td>n</td>\n",
       "      <td>NaN</td>\n",
       "      <td>NaN</td>\n",
       "      <td>f</td>\n",
       "      <td>f</td>\n",
       "      <td>NaN</td>\n",
       "      <td>d</td>\n",
       "      <td>s</td>\n",
       "    </tr>\n",
       "    <tr>\n",
       "      <th>2</th>\n",
       "      <td>1146527</td>\n",
       "      <td>e</td>\n",
       "      <td>9.36</td>\n",
       "      <td>f</td>\n",
       "      <td>NaN</td>\n",
       "      <td>n</td>\n",
       "      <td>t</td>\n",
       "      <td>NaN</td>\n",
       "      <td>NaN</td>\n",
       "      <td>w</td>\n",
       "      <td>...</td>\n",
       "      <td>b</td>\n",
       "      <td>NaN</td>\n",
       "      <td>w</td>\n",
       "      <td>NaN</td>\n",
       "      <td>w</td>\n",
       "      <td>t</td>\n",
       "      <td>g</td>\n",
       "      <td>NaN</td>\n",
       "      <td>d</td>\n",
       "      <td>a</td>\n",
       "    </tr>\n",
       "    <tr>\n",
       "      <th>3</th>\n",
       "      <td>889383</td>\n",
       "      <td>p</td>\n",
       "      <td>6.52</td>\n",
       "      <td>s</td>\n",
       "      <td>d</td>\n",
       "      <td>e</td>\n",
       "      <td>t</td>\n",
       "      <td>d</td>\n",
       "      <td>c</td>\n",
       "      <td>w</td>\n",
       "      <td>...</td>\n",
       "      <td>NaN</td>\n",
       "      <td>NaN</td>\n",
       "      <td>e</td>\n",
       "      <td>NaN</td>\n",
       "      <td>NaN</td>\n",
       "      <td>f</td>\n",
       "      <td>f</td>\n",
       "      <td>NaN</td>\n",
       "      <td>d</td>\n",
       "      <td>a</td>\n",
       "    </tr>\n",
       "    <tr>\n",
       "      <th>4</th>\n",
       "      <td>416134</td>\n",
       "      <td>p</td>\n",
       "      <td>3.13</td>\n",
       "      <td>b</td>\n",
       "      <td>t</td>\n",
       "      <td>n</td>\n",
       "      <td>f</td>\n",
       "      <td>NaN</td>\n",
       "      <td>NaN</td>\n",
       "      <td>n</td>\n",
       "      <td>...</td>\n",
       "      <td>NaN</td>\n",
       "      <td>NaN</td>\n",
       "      <td>w</td>\n",
       "      <td>NaN</td>\n",
       "      <td>NaN</td>\n",
       "      <td>t</td>\n",
       "      <td>NaN</td>\n",
       "      <td>k</td>\n",
       "      <td>g</td>\n",
       "      <td>u</td>\n",
       "    </tr>\n",
       "  </tbody>\n",
       "</table>\n",
       "<p>5 rows × 22 columns</p>\n",
       "</div>"
      ],
      "text/plain": [
       "        id class  cap-diameter cap-shape cap-surface cap-color  \\\n",
       "0  1356763     p          7.82         s           t         r   \n",
       "1  2369311     p          3.20         o         NaN         g   \n",
       "2  1146527     e          9.36         f         NaN         n   \n",
       "3   889383     p          6.52         s           d         e   \n",
       "4   416134     p          3.13         b           t         n   \n",
       "\n",
       "  does-bruise-or-bleed gill-attachment gill-spacing gill-color  ...  \\\n",
       "0                    t               d          NaN          g  ...   \n",
       "1                    f               f            f          f  ...   \n",
       "2                    t             NaN          NaN          w  ...   \n",
       "3                    t               d            c          w  ...   \n",
       "4                    f             NaN          NaN          n  ...   \n",
       "\n",
       "   stem-root  stem-surface stem-color veil-type veil-color has-ring ring-type  \\\n",
       "0        NaN             t          g       NaN        NaN        f         f   \n",
       "1        NaN             g          n       NaN        NaN        f         f   \n",
       "2          b           NaN          w       NaN          w        t         g   \n",
       "3        NaN           NaN          e       NaN        NaN        f         f   \n",
       "4        NaN           NaN          w       NaN        NaN        t       NaN   \n",
       "\n",
       "  spore-print-color habitat season  \n",
       "0               NaN       d      a  \n",
       "1               NaN       d      s  \n",
       "2               NaN       d      a  \n",
       "3               NaN       d      a  \n",
       "4                 k       g      u  \n",
       "\n",
       "[5 rows x 22 columns]"
      ]
     },
     "execution_count": 134,
     "metadata": {},
     "output_type": "execute_result"
    }
   ],
   "source": [
    "df = df.sample(n=100_000, random_state=42).reset_index(drop=True)\n",
    "print(\"Sampled dataset shape:\", df.shape)\n",
    "df.head()"
   ]
  },
  {
   "cell_type": "markdown",
   "id": "3555ab82",
   "metadata": {},
   "source": [
    "## 1. Adressing data quality\n",
    "\n",
    "In this section, we assess the completeness, uniqueness, and accuracy of the dataset, and apply necessary modifications to ensure high-quality data for model training."
   ]
  },
  {
   "cell_type": "markdown",
   "id": "32e663d4",
   "metadata": {},
   "source": [
    "### Completeness\n",
    "As identified in the Data Understanding phase, several features in the dataset contain missing values. It's essential to handle these appropriately before moving forward.\n",
    "\n",
    "We first inspect:\n",
    "- Which columns contain missing values\n",
    "- Whether any columns have no values at all\n",
    "- Whether any columns contain only a single unique value"
   ]
  },
  {
   "cell_type": "code",
   "execution_count": 135,
   "id": "b276b66f",
   "metadata": {},
   "outputs": [
    {
     "name": "stdout",
     "output_type": "stream",
     "text": [
      "Columns with missing values:\n",
      " Index(['cap-shape', 'cap-surface', 'gill-attachment', 'gill-spacing',\n",
      "       'gill-color', 'stem-root', 'stem-surface', 'veil-type', 'veil-color',\n",
      "       'has-ring', 'ring-type', 'spore-print-color', 'habitat'],\n",
      "      dtype='object')\n",
      "Columns with no values:\n",
      " Index([], dtype='object')\n",
      "Columns with only one value:\n",
      " Index([], dtype='object')\n"
     ]
    }
   ],
   "source": [
    "# Check for missing values\n",
    "print(\"Columns with missing values:\\n\", df.loc[:, df.isnull().any()].columns)\n",
    "# Chekc for null columns\n",
    "print(\"Columns with no values:\\n\", df.loc[:, df.isnull().all()].columns)\n",
    "# Check for uniques by column\n",
    "print(\"Columns with only one value:\\n\", df.loc[:, df.nunique() == 1].columns)"
   ]
  },
  {
   "cell_type": "markdown",
   "id": "524d3473",
   "metadata": {},
   "source": [
    "A significant number of columns contain missing values."
   ]
  },
  {
   "cell_type": "markdown",
   "id": "96e88cd8",
   "metadata": {},
   "source": [
    "#### Handling Missing Values\n",
    "\n",
    "For now, we replace all missing entries with the placeholder \"unknown\". This preserves the rows and treats unknowns as valid categories, which is suitable for tree-based models."
   ]
  },
  {
   "cell_type": "code",
   "execution_count": 136,
   "id": "1f06b36a",
   "metadata": {},
   "outputs": [
    {
     "name": "stdout",
     "output_type": "stream",
     "text": [
      "Columns with missing values:\n",
      " Index([], dtype='object')\n"
     ]
    }
   ],
   "source": [
    "df.fillna('unknown', inplace=True)\n",
    "\n",
    "# Check for missing values\n",
    "print(\"Columns with missing values:\\n\", df.loc[:, df.isnull().any()].columns)\n"
   ]
  },
  {
   "cell_type": "markdown",
   "id": "7b3c56ca",
   "metadata": {},
   "source": [
    "We confirm that all missing values have been addressed:"
   ]
  },
  {
   "cell_type": "markdown",
   "id": "1e1c6db7",
   "metadata": {},
   "source": [
    "### Uniqueness\n",
    "To ensure data integrity, we verify that each record in the dataset is unique. This check helps detect and prevent duplicate entries that could bias the model."
   ]
  },
  {
   "cell_type": "code",
   "execution_count": 137,
   "id": "f4218724",
   "metadata": {},
   "outputs": [
    {
     "name": "stdout",
     "output_type": "stream",
     "text": [
      "0\n"
     ]
    }
   ],
   "source": [
    "#check for duplicates\n",
    "print(df.duplicated().sum())"
   ]
  },
  {
   "cell_type": "markdown",
   "id": "9ae7bff0",
   "metadata": {},
   "source": [
    "### Accuracy\n",
    "To assess data accuracy, we verify whether any values in the numerical columns fall outside of expected ranges. For this dataset, numerical values (e.g., sizes and dimensions) are expected to be non-negative."
   ]
  },
  {
   "cell_type": "code",
   "execution_count": 138,
   "id": "31d3d70c",
   "metadata": {},
   "outputs": [
    {
     "name": "stdout",
     "output_type": "stream",
     "text": [
      "Empty DataFrame\n",
      "Columns: []\n",
      "Index: [0, 1, 2, 3, 4, 5, 6, 7, 8, 9, 10, 11, 12, 13, 14, 15, 16, 17, 18, 19, 20, 21, 22, 23, 24, 25, 26, 27, 28, 29, 30, 31, 32, 33, 34, 35, 36, 37, 38, 39, 40, 41, 42, 43, 44, 45, 46, 47, 48, 49, 50, 51, 52, 53, 54, 55, 56, 57, 58, 59, 60, 61, 62, 63, 64, 65, 66, 67, 68, 69, 70, 71, 72, 73, 74, 75, 76, 77, 78, 79, 80, 81, 82, 83, 84, 85, 86, 87, 88, 89, 90, 91, 92, 93, 94, 95, 96, 97, 98, 99, ...]\n",
      "\n",
      "[100000 rows x 0 columns]\n"
     ]
    }
   ],
   "source": [
    "numeric_columns = df.select_dtypes(include=['int64', 'float64'])\n",
    "# check if any numerical columns have negative values\n",
    "print(numeric_columns.loc[:, numeric_columns.lt(0).any()])"
   ]
  },
  {
   "cell_type": "markdown",
   "id": "078ef726",
   "metadata": {},
   "source": [
    "All numerical values are valid and non-negative. No unexpected entries were detected."
   ]
  },
  {
   "cell_type": "markdown",
   "id": "943b08e1",
   "metadata": {},
   "source": [
    "## 2. Data Cleaning"
   ]
  },
  {
   "cell_type": "markdown",
   "id": "16385bee",
   "metadata": {},
   "source": [
    "### Redundancy\n",
    "The column id does not contribute any meaningful information for the modeling process. Since it serves only as a row identifier and holds no predictive value, we remove it from the dataset:"
   ]
  },
  {
   "cell_type": "code",
   "execution_count": 139,
   "id": "bfe1b0cd",
   "metadata": {},
   "outputs": [],
   "source": [
    "df = df.drop(columns='id')"
   ]
  },
  {
   "cell_type": "markdown",
   "id": "3fb756b6",
   "metadata": {},
   "source": [
    "### Outliers\n",
    "#### Categorical Features\n",
    "From the Data Understanding phase, we identified a number of rare categories in some categorical variables. These infrequent values may stem from data entry inconsistencies or may introduce unnecessary noise during training.\n",
    "\n",
    "To mitigate this, we apply a rare-category encoding strategy. Any category that occurs in less than 1% of the dataset is replaced with a generic label 'Rare'."
   ]
  },
  {
   "cell_type": "code",
   "execution_count": 140,
   "id": "d13cddf1",
   "metadata": {},
   "outputs": [],
   "source": [
    "categorical_features = df.select_dtypes(include='object').drop(columns='class').columns.tolist()\n",
    "\n",
    "threshold = 0.01\n",
    "\n",
    "for col in categorical_features:\n",
    "    frequency = df[col].value_counts(normalize=True)\n",
    "    rare_labels = frequency[frequency < threshold].index\n",
    "    df[col] = df[col].replace(rare_labels, 'Rare')"
   ]
  },
  {
   "cell_type": "markdown",
   "id": "bad410c7",
   "metadata": {},
   "source": [
    "#### Numerical Features\n",
    "Several numerical columns exhibited extreme skew and outliers, which can negatively affect distance-based or linear models. To address this, we apply a logarithmic transformation to compress large values and reduce skewness:"
   ]
  },
  {
   "cell_type": "code",
   "execution_count": 141,
   "id": "0118b4b4",
   "metadata": {},
   "outputs": [],
   "source": [
    "numeric_features = df.select_dtypes(include=['int64', 'float64']).columns.tolist()\n",
    "\n",
    "for col in numeric_features:\n",
    "    df[col] = np.log1p(df[col])"
   ]
  },
  {
   "cell_type": "code",
   "execution_count": 142,
   "id": "b42522a2",
   "metadata": {},
   "outputs": [
    {
     "data": {
      "image/png": "[encoded data removed]",
      "text/plain": [
       "<Figure size 1500x400 with 3 Axes>"
      ]
     },
     "metadata": {},
     "output_type": "display_data"
    }
   ],
   "source": [
    "num_features = len(numeric_features)\n",
    "cols = 3\n",
    "rows = math.ceil(num_features / cols)\n",
    "\n",
    "fig, axes = plt.subplots(rows, cols, figsize=(5 * cols, 4 * rows))\n",
    "axes = axes.flatten()\n",
    "\n",
    "for i, feature in enumerate(numeric_features):\n",
    "    sns.boxplot(data=df, x=feature, ax=axes[i])\n",
    "    axes[i].set_title(f'Box Plot - {feature}')\n",
    "\n",
    "for j in range(i + 1, len(axes)):\n",
    "    fig.delaxes(axes[j])\n",
    "\n",
    "plt.tight_layout()\n",
    "plt.show()"
   ]
  },
  {
   "cell_type": "markdown",
   "id": "0bbb5e50",
   "metadata": {},
   "source": [
    "After the transformation, the updated box plots show a significantly more symmetric and compact distribution across all numeric features. The number and intensity of outliers have visibly decreased, improving the robustness and fairness of the upcoming model training phase.\n",
    "\n",
    "However, `stem-height` and `stem-width` still contain the value `0`, which should be impossible as these are dimensions.\n",
    "To address this issue we will replace these values with their respective medians."
   ]
  },
  {
   "cell_type": "code",
   "execution_count": 143,
   "id": "d43ed358",
   "metadata": {},
   "outputs": [],
   "source": [
    "df['stem-height'] = df['stem-height'].replace(0, np.nan)\n",
    "df['stem-width'] = df['stem-width'].replace(0, np.nan)\n",
    "\n",
    "df['stem-height'] = df['stem-height'].fillna(df['stem-height'].median())\n",
    "df['stem-width'] = df['stem-width'].fillna(df['stem-width'].median())"
   ]
  },
  {
   "cell_type": "markdown",
   "id": "8fb7e6e5",
   "metadata": {},
   "source": [
    "These transformations effectively reduce skew. We choose not to remove any additional data points to preserve the integrity of potentially valuable, though extreme, examples. This decision favors model generalization over aggressive outlier removal."
   ]
  },
  {
   "cell_type": "markdown",
   "id": "0cfa2eb0",
   "metadata": {},
   "source": [
    "## 3. Feature Engineering\n",
    "\n",
    "Feature engineering is a critical step in the machine learning pipeline, as it enables models to capture complex patterns and improve predictive performance. In this section, we derive new features from the existing dataset to better represent domain-specific relationships, reduce noise, and enhance model interpretability.\n",
    "\n",
    "The techniques applied here include:\n",
    "- **Interaction features** to reflect geometric relationships.\n",
    "- **Combined categorical features** to capture structural or environmental interactions.\n",
    "- **Simplification of categories** to reduce cardinality and highlight meaningful groupings.\n",
    "- **Binning of numeric values** to discretize continuous data and expose ordinal relationships.\n",
    "\n",
    "These engineered features aim to enrich the dataset with more informative and expressive representations of the original attributes, thereby supporting more accurate and robust classification models.\n"
   ]
  },
  {
   "cell_type": "markdown",
   "id": "d7bd3fb7",
   "metadata": {},
   "source": [
    "#### Iteraction Features\n",
    "These features are derived from arithmetic combinations of numeric variables (e.g., height × width), aiming to represent physical characteristics like area, volume, or proportional ratios."
   ]
  },
  {
   "cell_type": "code",
   "execution_count": 144,
   "id": "9ca7dd71",
   "metadata": {},
   "outputs": [],
   "source": [
    "df['stem-area'] = df['stem-height'] * df['stem-width']\n",
    "df['stem-volume'] = df['stem-area'] * df['stem-width']\n",
    "df['stem-ratio'] = df['stem-height'] / (df['stem-width'])\n",
    "df['cap-stem-ratio'] = df['cap-diameter'] / (df['stem-height'] + df['stem-width'])"
   ]
  },
  {
   "cell_type": "markdown",
   "id": "cc39a668",
   "metadata": {},
   "source": [
    "#### Attaching Features\n",
    "New features created by combining pairs of categorical values that are likely to have interactive effects — e.g., the relationship between gill spacing and attachment."
   ]
  },
  {
   "cell_type": "code",
   "execution_count": 145,
   "id": "8140f1de",
   "metadata": {},
   "outputs": [],
   "source": [
    "df['gill-type'] = df['gill-attachment'] + \"_\" + df['gill-spacing']\n",
    "df['ring-profile'] = df['has-ring'] + \"_\" + df['ring-type']\n",
    "df['habitat-season'] = df['habitat'] + \"_\" + df['season']\n",
    "df['cap-surface-shape'] = df['cap-surface'] + \"_\" + df['cap-shape']\n",
    "df['stem-root-surface'] = df['stem-root'] + \"_\" + df['stem-surface']"
   ]
  },
  {
   "cell_type": "markdown",
   "id": "5ccef6dd",
   "metadata": {},
   "source": [
    "#### Simplifying Features\n",
    "Transformations that reduce the cardinality of categorical features by grouping similar values together (e.g., dark/light colors, warm/cold seasons), improving model interpretability and reducing noise.\n",
    "\n",
    "Unfortunately, due to the lack of documentation regarding the meaning of each column's values, this type of feature engineering could not be explored as extensively as desired."
   ]
  },
  {
   "cell_type": "code",
   "execution_count": 146,
   "id": "02de947d",
   "metadata": {},
   "outputs": [],
   "source": [
    "df['has-root'] = df['stem-root'].apply(lambda x: 'yes' if x not in ['unknown'] else 'no')\n",
    "\n",
    "warm_seasons = ['u', 's']\n",
    "cold_seasons = ['a', 'w']\n",
    "\n",
    "df['season-type'] = df['season'].apply(lambda x: 'warm' if x in warm_seasons else 'cold')"
   ]
  },
  {
   "cell_type": "markdown",
   "id": "6fe19501",
   "metadata": {},
   "source": [
    "#### Binning\n",
    "Continuous numeric values are discretized into categorical bins (e.g., small/medium/large). This is especially useful for tree-based models or when interpretability is preferred."
   ]
  },
  {
   "cell_type": "code",
   "execution_count": 147,
   "id": "040358a8",
   "metadata": {},
   "outputs": [],
   "source": [
    "df['cap-diameter-bin'] = pd.qcut(df['cap-diameter'], q=3, labels=['small', 'medium', 'large'])\n",
    "df['stem-height-bin'] = pd.qcut(df['stem-height'], q=3, labels=['short', 'medium', 'tall'])\n",
    "df['stem-width-bin'] = pd.qcut(df['stem-width'], q=3, labels=['narrow', 'medium', 'wide'])\n",
    "df['stem-volume-bin'] = pd.qcut(df['stem-volume'], q=3, labels=['small', 'medium', 'large'])\n",
    "df['stem-area-bin'] = pd.qcut(df['stem-area'], q=3, labels=['small', 'medium', 'large'])\n",
    "df['stem-ratio-bin'] = pd.qcut(df['stem-ratio'], q=3, labels=['low', 'medium', 'high'])\n",
    "df['cap-stem-ratio-bin'] = pd.qcut(df['cap-stem-ratio'], q=3, labels=['low', 'medium', 'high'])"
   ]
  },
  {
   "cell_type": "markdown",
   "id": "d87c53b9",
   "metadata": {},
   "source": [
    "## 4. Saving the Data"
   ]
  },
  {
   "cell_type": "code",
   "execution_count": 148,
   "id": "5f8b09c5",
   "metadata": {},
   "outputs": [],
   "source": [
    "df.to_csv('./Data/processed_train.csv', index=False)"
   ]
  },
  {
   "cell_type": "markdown",
   "id": "ccaf7e45",
   "metadata": {},
   "source": [
    "## Full Dataset"
   ]
  },
  {
   "cell_type": "code",
   "execution_count": 31,
   "id": "5de45a10",
   "metadata": {},
   "outputs": [],
   "source": [
    "# Import libraries\n",
    "import pandas as pd\n",
    "import numpy as np\n",
    "import matplotlib.pyplot as plt\n",
    "import math\n",
    "import seaborn as sns"
   ]
  },
  {
   "cell_type": "code",
   "execution_count": 32,
   "id": "3e2f56d3",
   "metadata": {},
   "outputs": [],
   "source": [
    "# Load dataset\n",
    "df = pd.read_csv('./Data/train.csv')"
   ]
  },
  {
   "cell_type": "code",
   "execution_count": 33,
   "id": "750719ae",
   "metadata": {},
   "outputs": [
    {
     "name": "stderr",
     "output_type": "stream",
     "text": [
      "/tmp/ipykernel_7253/3438581698.py:1: FutureWarning: Setting an item of incompatible dtype is deprecated and will raise an error in a future version of pandas. Value 'unknown' has dtype incompatible with float64, please explicitly cast to a compatible dtype first.\n",
      "  df.fillna('unknown', inplace=True)\n"
     ]
    }
   ],
   "source": [
    "df.fillna('unknown', inplace=True)"
   ]
  },
  {
   "cell_type": "code",
   "execution_count": 34,
   "id": "d1102072",
   "metadata": {},
   "outputs": [],
   "source": [
    "numeric_columns = df.select_dtypes(include=['int64', 'float64'])"
   ]
  },
  {
   "cell_type": "code",
   "execution_count": 35,
   "id": "cc0d4ae9",
   "metadata": {},
   "outputs": [],
   "source": [
    "df = df.drop(columns='id')"
   ]
  },
  {
   "cell_type": "code",
   "execution_count": 36,
   "id": "ed340492",
   "metadata": {},
   "outputs": [],
   "source": [
    "df['cap-diameter'] = pd.to_numeric(df['cap-diameter'], errors='coerce').fillna(0)"
   ]
  },
  {
   "cell_type": "code",
   "execution_count": 37,
   "id": "53b4c3ba",
   "metadata": {},
   "outputs": [],
   "source": [
    "categorical_features = df.select_dtypes(include='object').drop(columns='class').columns.tolist()\n",
    "\n",
    "threshold = 0.01\n",
    "\n",
    "for col in categorical_features:\n",
    "    frequency = df[col].value_counts(normalize=True)\n",
    "    rare_labels = frequency[frequency < threshold].index\n",
    "    df[col] = df[col].replace(rare_labels, 'Rare')"
   ]
  },
  {
   "cell_type": "code",
   "execution_count": 38,
   "id": "6238ecd9",
   "metadata": {},
   "outputs": [],
   "source": [
    "numeric_features = df.select_dtypes(include=['int64', 'float64']).columns.tolist()\n",
    "\n",
    "for col in numeric_features:\n",
    "    df[col] = np.log1p(df[col])\n"
   ]
  },
  {
   "cell_type": "code",
   "execution_count": 39,
   "id": "16f11588",
   "metadata": {},
   "outputs": [
    {
     "name": "stdout",
     "output_type": "stream",
     "text": [
      "[2.28238239 1.70656462 2.07191328 ... 3.66637819 4.03653888 4.0086051 ]\n"
     ]
    }
   ],
   "source": [
    "print(df['cap-diameter'].unique())"
   ]
  },
  {
   "cell_type": "code",
   "execution_count": 40,
   "id": "d5d340c6",
   "metadata": {},
   "outputs": [],
   "source": [
    "df['stem-height'] = df['stem-height'].replace(0, np.nan)\n",
    "df['stem-width'] = df['stem-width'].replace(0, np.nan)\n",
    "\n",
    "df['stem-height'] = df['stem-height'].fillna(df['stem-height'].median())\n",
    "df['stem-width'] = df['stem-width'].fillna(df['stem-width'].median())"
   ]
  },
  {
   "cell_type": "code",
   "execution_count": 41,
   "id": "61bf14f7",
   "metadata": {},
   "outputs": [],
   "source": [
    "df['stem-area'] = df['stem-height'] * df['stem-width']\n",
    "df['stem-volume'] = df['stem-area'] * df['stem-width']\n",
    "df['stem-ratio'] = df['stem-height'] / (df['stem-width'])\n",
    "df['cap-stem-ratio'] = df['cap-diameter'] / (df['stem-height'] + df['stem-width'])"
   ]
  },
  {
   "cell_type": "code",
   "execution_count": 42,
   "id": "10d6a793",
   "metadata": {},
   "outputs": [],
   "source": [
    "df['gill-type'] = df['gill-attachment'] + \"_\" + df['gill-spacing']\n",
    "df['ring-profile'] = df['has-ring'] + \"_\" + df['ring-type']\n",
    "df['habitat-season'] = df['habitat'] + \"_\" + df['season']\n",
    "df['cap-surface-shape'] = df['cap-surface'] + \"_\" + df['cap-shape']\n",
    "df['stem-root-surface'] = df['stem-root'] + \"_\" + df['stem-surface']"
   ]
  },
  {
   "cell_type": "code",
   "execution_count": 43,
   "id": "5f16185c",
   "metadata": {},
   "outputs": [],
   "source": [
    "df['has-root'] = df['stem-root'].apply(lambda x: 'yes' if x not in ['unknown'] else 'no')\n",
    "\n",
    "warm_seasons = ['u', 's']\n",
    "cold_seasons = ['a', 'w']\n",
    "\n",
    "df['season-type'] = df['season'].apply(lambda x: 'warm' if x in warm_seasons else 'cold')"
   ]
  },
  {
   "cell_type": "code",
   "execution_count": 44,
   "id": "b724578d",
   "metadata": {},
   "outputs": [],
   "source": [
    "if df['cap-diameter'].nunique() > 1:\n",
    "    df['cap-diameter-bin'] = pd.qcut(df['cap-diameter'], q=3, labels=['small', 'medium', 'large'])\n",
    "else:\n",
    "    print(\"cap-diameter has only one unique value — skipping binning.\")\n"
   ]
  },
  {
   "cell_type": "code",
   "execution_count": 45,
   "id": "48d5468c",
   "metadata": {},
   "outputs": [],
   "source": [
    "df['cap-diameter-bin'] = pd.qcut(df['cap-diameter'], q=3, labels=['small', 'medium', 'large'])\n",
    "df['stem-height-bin'] = pd.qcut(df['stem-height'], q=3, labels=['short', 'medium', 'tall'])\n",
    "df['stem-width-bin'] = pd.qcut(df['stem-width'], q=3, labels=['narrow', 'medium', 'wide'])\n",
    "df['stem-volume-bin'] = pd.qcut(df['stem-volume'], q=3, labels=['small', 'medium', 'large'])\n",
    "df['stem-area-bin'] = pd.qcut(df['stem-area'], q=3, labels=['small', 'medium', 'large'])\n",
    "df['stem-ratio-bin'] = pd.qcut(df['stem-ratio'], q=3, labels=['low', 'medium', 'high'])\n",
    "df['cap-stem-ratio-bin'] = pd.qcut(df['cap-stem-ratio'], q=3, labels=['low', 'medium', 'high'])"
   ]
  },
  {
   "cell_type": "code",
   "execution_count": 46,
   "id": "4753a840",
   "metadata": {},
   "outputs": [],
   "source": [
    "df.to_csv('./Data/processed_train_full.csv', index=False)"
   ]
  }
 ],
 "metadata": {
  "kernelspec": {
   "display_name": "Python 3",
   "language": "python",
   "name": "python3"
  },
  "language_info": {
   "codemirror_mode": {
    "name": "ipython",
    "version": 3
   },
   "file_extension": ".py",
   "mimetype": "text/x-python",
   "name": "python",
   "nbconvert_exporter": "python",
   "pygments_lexer": "ipython3",
   "version": "3.13.2"
  }
 },
 "nbformat": 4,
 "nbformat_minor": 5
}
